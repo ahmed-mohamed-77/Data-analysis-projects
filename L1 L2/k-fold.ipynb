{
 "cells": [
  {
   "cell_type": "code",
   "execution_count": 100,
   "metadata": {},
   "outputs": [],
   "source": [
    "import pandas as pd\n",
    "import numpy as np\n",
    "from sklearn.linear_model import LogisticRegression\n",
    "from sklearn.model_selection import KFold\n",
    "from sklearn.ensemble import RandomForestClassifier\n",
    "from sklearn.svm import SVC\n",
    "from sklearn.datasets import load_digits\n",
    "import matplotlib.pyplot as plt\n",
    "import warnings\n",
    "\n",
    "warnings.filterwarnings(action=\"ignore\")\n",
    "warnings.simplefilter(action=\"ignore\", category=FutureWarning)\n",
    "\n",
    "%matplotlib inline"
   ]
  },
  {
   "cell_type": "code",
   "execution_count": 105,
   "metadata": {},
   "outputs": [
    {
     "name": "stdout",
     "output_type": "stream",
     "text": [
      "Logistic Regression: [0.967 0.961 0.961 0.944 0.95  0.972 0.967 0.966 0.983 0.972]\n",
      "Logistic Regression: 0.9642999999999999\n",
      "Random Forest [0.972 0.983 0.972 0.944 0.967 0.967 0.989 0.978 0.983 0.983]\n",
      "Random Forest 0.9738000000000001\n",
      "support victor [0.994 0.994 0.983 0.989 0.978 0.994 0.994 0.983 0.989 0.994]\n",
      "support victor 0.9892\n"
     ]
    }
   ],
   "source": [
    "def get_score(model , x_train , x_test, y_train, y_test):\n",
    "    model_selected = model.fit(x_train, y_train)\n",
    "    return model_selected.score(x_test, y_test)\n",
    "\n",
    "digits = load_digits()\n",
    "X = digits.data\n",
    "Y = digits.target\n",
    "\n",
    "kf = KFold(n_splits=10, shuffle=True)\n",
    "logistic_regression = []\n",
    "random_forest = []\n",
    "support_vector = []\n",
    "\n",
    "for train_index, test_index in kf.split(X=X):\n",
    "    x_fold_train, x_fold_test = X[train_index], X[test_index]\n",
    "    y_fold_train, y_fold_test = Y[train_index], Y[test_index]\n",
    "    \n",
    "    logistic_regression.append(get_score(model=LogisticRegression() ,x_train=x_fold_train , x_test=x_fold_test , y_train=y_fold_train , y_test=y_fold_test))\n",
    "    random_forest.append(get_score(model=RandomForestClassifier() ,x_train=x_fold_train , x_test=x_fold_test , y_train=y_fold_train , y_test=y_fold_test))\n",
    "    support_vector.append(get_score(model=SVC() ,x_train=x_fold_train , x_test=x_fold_test , y_train=y_fold_train , y_test=y_fold_test))\n",
    "\n",
    "print(\"Logistic Regression:\", np.round(logistic_regression, 3))\n",
    "print(\"Logistic Regression:\", np.round(logistic_regression, 3).mean())\n",
    "print(\"Random Forest\", np.round(random_forest, 3))\n",
    "print(\"Random Forest\", np.round(random_forest, 3).mean())\n",
    "print(\"support victor\",np.round(support_vector, 3))\n",
    "print(\"support victor\",np.round(support_vector, 3).mean())"
   ]
  },
  {
   "cell_type": "code",
   "execution_count": null,
   "metadata": {},
   "outputs": [],
   "source": []
  }
 ],
 "metadata": {
  "kernelspec": {
   "display_name": "ml",
   "language": "python",
   "name": "python3"
  },
  "language_info": {
   "codemirror_mode": {
    "name": "ipython",
    "version": 3
   },
   "file_extension": ".py",
   "mimetype": "text/x-python",
   "name": "python",
   "nbconvert_exporter": "python",
   "pygments_lexer": "ipython3",
   "version": "3.12.6"
  }
 },
 "nbformat": 4,
 "nbformat_minor": 2
}
