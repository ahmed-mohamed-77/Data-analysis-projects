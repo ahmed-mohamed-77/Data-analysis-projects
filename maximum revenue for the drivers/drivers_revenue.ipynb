{
 "cells": [
  {
   "cell_type": "markdown",
   "metadata": {
    "vscode": {
     "languageId": "html"
    }
   },
   "source": [
    "<div>\n",
    "<h1>Maximizing Revenue for taxi Cab Drivers through Payment Type Analysis</h1>\n",
    "\n",
    "<h2>Problem statement</h2>\n",
    "in the fast-paced taxi booking sector, making the most revenue is essential for long-term success and driver happiness. Our goal is to use data-driven insights to maximize revenue streams for taxi drivers in order to meet this need. Our research aims to determine whether payment methods have an impact on fare pricing by focusing on the relationship between payment type and fare amount\n",
    "\n",
    "<h2>Objective </h2>\n",
    "\n",
    "<span style=\"font-weight: bold; color: yellow;\">This project main goal is to run A/B test to examine the relationship between the total fare and the method of payment.</span> we use python hypothesis testing and descriptive statistics to extract useful information that can help taxi divers generate more cash. in particular, we want to find out if there is a big difference in the fares for those who pay with credit card vs those who pays with cash.\n",
    "\n",
    "<h2>Research Question<h2>\n",
    "\n",
    "is there a relationship between total fare amount and payment type and can we nudge customers toward payment methods that generate higher revenue for drivers, without negatively impacting customer experience?\n",
    "</div>"
   ]
  },
  {
   "cell_type": "markdown",
   "metadata": {},
   "source": [
    "## Importing Libraries"
   ]
  },
  {
   "cell_type": "code",
   "execution_count": null,
   "metadata": {},
   "outputs": [],
   "source": [
    "import pandas as pd\n",
    "import numpy as np\n",
    "import seaborn as sns\n",
    "import matplotlib.pyplot as plt\n",
    "from scipy import stats\n",
    "import warnings\n",
    "%matplotlib inline\n",
    "sns.set_style(style=\"darkgrid\")\n",
    "warnings.filterwarnings(action=\"ignore\")"
   ]
  },
  {
   "cell_type": "markdown",
   "metadata": {},
   "source": [
    "## Loading Dataset"
   ]
  },
  {
   "cell_type": "code",
   "execution_count": null,
   "metadata": {},
   "outputs": [],
   "source": [
    "from pandas import DataFrame\n",
    "\n",
    "\n",
    "df: DataFrame = pd.read_csv(filepath_or_buffer=r\"D:\\Python\\data analysis projects\\maximum revenue for the drivers\\yellow_tripdata_2020-01.csv\", low_memory=False)\n",
    "df"
   ]
  },
  {
   "cell_type": "markdown",
   "metadata": {},
   "source": [
    "## Exploratory Data Analysis"
   ]
  },
  {
   "cell_type": "code",
   "execution_count": null,
   "metadata": {},
   "outputs": [],
   "source": [
    "df.shape"
   ]
  },
  {
   "cell_type": "code",
   "execution_count": null,
   "metadata": {},
   "outputs": [],
   "source": [
    "df.info()"
   ]
  },
  {
   "cell_type": "code",
   "execution_count": null,
   "metadata": {},
   "outputs": [],
   "source": [
    "# convert strings to date time\n",
    "df[\"tpep_pickup_datetime\"] = pd.to_datetime(arg=df[\"tpep_pickup_datetime\"])\n",
    "df[\"tpep_dropoff_datetime\"] = pd.to_datetime(arg=df[\"tpep_dropoff_datetime\"])"
   ]
  },
  {
   "cell_type": "code",
   "execution_count": null,
   "metadata": {},
   "outputs": [],
   "source": [
    "missing_data = df.isna().sum()\n",
    "missing_data"
   ]
  },
  {
   "cell_type": "code",
   "execution_count": null,
   "metadata": {},
   "outputs": [],
   "source": [
    "(65441 / 6405008) * 100"
   ]
  },
  {
   "cell_type": "markdown",
   "metadata": {},
   "source": [
    "## Drop the missing data\n",
    "**Since the missing data constitutes only 1% of the dataset, removing these values ensures simplicity and minimal impact on the overall analysis**"
   ]
  },
  {
   "cell_type": "code",
   "execution_count": null,
   "metadata": {},
   "outputs": [],
   "source": [
    "df_cleaned = df.dropna(axis=0)\n"
   ]
  },
  {
   "cell_type": "code",
   "execution_count": null,
   "metadata": {},
   "outputs": [],
   "source": [
    "df_cleaned"
   ]
  },
  {
   "cell_type": "code",
   "execution_count": null,
   "metadata": {},
   "outputs": [],
   "source": [
    "duration = df_cleaned[\"tpep_dropoff_datetime\"] - df_cleaned[\"tpep_pickup_datetime\"]\n",
    "cleaned_df = pd.concat(objs=[df_cleaned.iloc[:,:3], duration, df_cleaned.iloc[:,3:]], axis=1)\n",
    "cleaned_df.rename(columns={0:\"duration\"}, inplace=True)\n",
    "cleaned_df[\"duration\"] = cleaned_df[\"duration\"].dt.total_seconds() / 60\n",
    "cleaned_df"
   ]
  },
  {
   "cell_type": "code",
   "execution_count": null,
   "metadata": {},
   "outputs": [],
   "source": [
    "cleaned_df.columns"
   ]
  },
  {
   "cell_type": "code",
   "execution_count": null,
   "metadata": {},
   "outputs": [],
   "source": [
    "\n",
    "df: DataFrame = cleaned_df[[\"passenger_count\", \"payment_type\", \"fare_amount\", \"trip_distance\", \"duration\"]]\n",
    "for col in df.columns:\n",
    "    if col == \"duration\":\n",
    "        continue\n",
    "    else:\n",
    "        df[col].astype(dtype=np.int64)"
   ]
  },
  {
   "cell_type": "code",
   "execution_count": null,
   "metadata": {},
   "outputs": [],
   "source": [
    "df. info()"
   ]
  },
  {
   "cell_type": "code",
   "execution_count": null,
   "metadata": {},
   "outputs": [],
   "source": [
    "np.round(a=df.describe(), decimals=3)"
   ]
  },
  {
   "cell_type": "code",
   "execution_count": null,
   "metadata": {},
   "outputs": [],
   "source": [
    "import plotly.express as px\n",
    "import plotly.graph_objects as go\n",
    "# Create the box plot\n",
    "fig = px.box(data_frame=cleaned_df, x=\"passenger_count\", orientation=\"h\")\n",
    "\n",
    "# Update the color of the box plot\n",
    "fig.update_traces(marker_color=\"forestgreen\")\n",
    "fig.add_annotation()\n",
    "fig.show()"
   ]
  },
  {
   "cell_type": "code",
   "execution_count": null,
   "metadata": {},
   "outputs": [],
   "source": [
    "df.drop_duplicates(inplace=True, keep=\"first\")\n",
    "df = df[df[\"payment_type\"] < 3]\n",
    "df = df[(df[\"passenger_count\"] > 0) & (df[\"passenger_count\"] < 6)]\n",
    "df"
   ]
  },
  {
   "cell_type": "code",
   "execution_count": null,
   "metadata": {},
   "outputs": [],
   "source": [
    "df[\"payment_type\"].replace(to_replace=[1,2], value=[\"card\", \"cash\"], inplace=True)"
   ]
  },
  {
   "cell_type": "code",
   "execution_count": null,
   "metadata": {},
   "outputs": [],
   "source": [
    "df.isna().sum()"
   ]
  },
  {
   "cell_type": "code",
   "execution_count": null,
   "metadata": {},
   "outputs": [],
   "source": [
    "df = df[df[\"trip_distance\"] > 0]\n",
    "df = df[df[\"fare_amount\"] > 0]\n",
    "df = df[df[\"duration\"] > 0]\n",
    "df"
   ]
  },
  {
   "cell_type": "code",
   "execution_count": null,
   "metadata": {},
   "outputs": [],
   "source": [
    "df.hist(bins=100, figsize=(20,10))"
   ]
  },
  {
   "cell_type": "code",
   "execution_count": null,
   "metadata": {},
   "outputs": [],
   "source": [
    "df[\"fare_amount\"].value_counts().sort_index(ascending=False)"
   ]
  },
  {
   "cell_type": "code",
   "execution_count": null,
   "metadata": {},
   "outputs": [],
   "source": [
    "df[df[\"fare_amount\"] > 4000]"
   ]
  },
  {
   "cell_type": "markdown",
   "metadata": {},
   "source": [
    "## Dealing with outliers\n",
    "**Using the IQR to remove the outlier by upper and lower bound**"
   ]
  },
  {
   "cell_type": "code",
   "execution_count": null,
   "metadata": {},
   "outputs": [],
   "source": [
    "for col in [\"fare_amount\", \"trip_distance\", \"duration\"]:\n",
    "    Q1 = np.percentile(df[col], 25)\n",
    "    Q3 = np.percentile(df[col], 75)\n",
    "\n",
    "    IQR = Q3 - Q1\n",
    "    \n",
    "    upper_bound = Q3 + (1.5 * IQR)\n",
    "    lower_bound = Q1 - (1.5 * IQR)\n",
    "\n",
    "    # Applying filter to remove the outliers from the data\n",
    "    df = df[(df[col] >= lower_bound) & (df[col] <= upper_bound)]"
   ]
  },
  {
   "cell_type": "code",
   "execution_count": null,
   "metadata": {},
   "outputs": [],
   "source": [
    "plt.figure(figsize=(20, 5))\n",
    "\n",
    "plt.subplot(1,2,1)\n",
    "\n",
    "# mean for payment type\n",
    "mean_card = df[df[\"payment_type\"] == \"card\"][\"fare_amount\"].mean()\n",
    "mean_cash = df[df[\"payment_type\"] == \"cash\"][\"fare_amount\"].mean()\n",
    "\n",
    "plt.hist(df[df[\"payment_type\"] == \"card\"][\"fare_amount\"], bins=30, edgecolor=\"k\", color=\"forestgreen\",histtype=\"barstacked\")\n",
    "plt.hist(df[df[\"payment_type\"] == \"cash\"] [\"fare_amount\"], bins=30, histtype=\"barstacked\", color=\"blue\")\n",
    "\n",
    "# add mean line for payment type\n",
    "plt.axvline(mean_card, color=\"red\", linestyle=\"dashed\", linewidth=2, label=f\"card mean: {mean_card:.2f}\")\n",
    "plt.axvline(mean_cash, color=\"#E85C0D\", linestyle=\"dashed\", linewidth=2, label=f\"cash mean: {mean_cash:.2f}\")\n",
    "\n",
    "plt.xlabel(\"Fare Amount\")\n",
    "plt.ylabel(\"Frequency\")\n",
    "plt.title(\"Histogram of Fare Amounts by Payment Type\")\n",
    "plt.tight_layout()\n",
    "plt.xlim(0,)\n",
    "plt.legend()\n",
    "\n",
    "plt.subplot(1,2,2)\n",
    "\n",
    "mean_card = df[df[\"payment_type\"] == \"card\"][\"trip_distance\"].mean()\n",
    "mean_cash = df[df[\"payment_type\"] == \"cash\"][\"trip_distance\"].mean()\n",
    "\n",
    "plt.hist(df[df[\"payment_type\"] == \"card\"][\"trip_distance\"], bins=30, edgecolor=\"k\", color=\"navy\", histtype=\"barstacked\")\n",
    "plt.hist(df[df[\"payment_type\"] == \"cash\"][\"trip_distance\"], bins=30, color=\"crimson\", histtype=\"barstacked\")\n",
    "\n",
    "plt.axvline(mean_card, color=\"white\", linestyle=\"dashed\", linewidth=2, label=f\"card mean: {mean_card:.2f}\")\n",
    "plt.axvline(mean_cash, color=\"#E85C0D\", linestyle=\"dashed\", linewidth=2, label=f\"cash mean: {mean_cash:.2f}\")\n",
    "\n",
    "plt.xlabel(\"Trip Distance\")\n",
    "plt.ylabel(\"Frequency\")\n",
    "plt.title(\"Histogram of trip distance by Payment Type\".title())\n",
    "plt.tight_layout()\n",
    "plt.xlim(0,)\n",
    "plt.legend()\n",
    "\n",
    "plt.show()\n",
    "\n",
    "# descriptive statistics for the taxi driver payment methods [card, cash]\n",
    "np.round(df.groupby(\"payment_type\").agg({\"fare_amount\": [\"mean\", \"std\"], \"trip_distance\": [\"mean\", \"std\"]}), 2)"
   ]
  },
  {
   "cell_type": "markdown",
   "metadata": {},
   "source": [
    "# Executive Summary\n",
    "\n",
    "## Key Insights:\n",
    "- **Card payments** are associated with higher average fare amounts compared to cash payments.\n",
    "- Trips paid for by card tend to be slightly longer on average.\n",
    "\n",
    "## Implications for Business Strategy:\n",
    "- Consider promoting card payments, especially for longer trips, as they tend to yield higher fare amounts.\n",
    "- Tailor marketing campaigns to encourage the use of cards for premium or long-distance services.\n",
    "\n",
    "# Visual & Data-Driven Insights\n",
    "\n",
    "## Fare Amounts:\n",
    "- **Graphical Representation:** Display the histogram side by side with annotations pointing to the mean values for card and cash payments. Highlight the difference in mean fare amounts between the two payment types.\n",
    "- **Textual Insight:** “As observed, trips paid for by card have a higher average fare amount (mean: $13.11) compared to cash payments (mean: $11.76). This suggests a tendency for customers to use cards for more expensive trips.”\n",
    "\n",
    "## Trip Distances:\n",
    "- **Graphical Representation:** Similar histogram for trip distances with vertical lines indicating the mean trip distances for card and cash payments.\n",
    "- **Textual Insight:** “The average trip distance is longer for card payments (mean: 2.99 miles) versus cash (mean: 2.60 miles). This could imply that customers prefer using cards for longer trips, possibly due to convenience or security concerns.”\n",
    "\n",
    "# Actionable Recommendations\n",
    "\n",
    "## Promotional Campaigns:\n",
    "- **Discounts on Card Payments:** Offer discounts or incentives for card payments on trips longer than a certain distance, leveraging the trend that card payments are already preferred for such trips.\n",
    "- **Partnerships with Card Companies:** Partner with credit card companies to offer exclusive rewards or cashback for using cards on longer or premium services.\n",
    "\n",
    "## Customer Segmentation:\n",
    "- **Target High-Value Customers:** Identify frequent users who prefer card payments and offer them loyalty programs or premium services to increase engagement.\n",
    "- **Encourage Card Usage:** Implement marketing strategies aimed at customers who predominantly use cash, encouraging them to switch to card payments for a more seamless experience.\n",
    "\n",
    "# Operational Adjustments\n",
    "\n",
    "- **Adjust Pricing Models:** Given the higher fare amounts associated with card payments, consider introducing dynamic pricing models that offer slight discounts for card payments on longer trips to increase usage.\n",
    "- **Payment Method Optimization:** Ensure that the infrastructure supports a seamless card payment process, especially for long-distance trips, to cater to the trend observed.\n",
    "\n",
    "# Further Analysis\n",
    "\n",
    "- **Explore Outliers:** Investigate the high-end tails in both fare amount and trip distance histograms to understand if they represent outliers or a segment of high-value customers.\n",
    "- **Correlation Analysis:** Conduct a deeper statistical analysis to explore correlations between payment type, trip distance, and fare amount to uncover more nuanced insights.\n",
    "\n",
    "# Presentation Approach\n",
    "\n",
    "## Slide Deck:\n",
    "- Start with a summary slide of the main findings.\n",
    "- Include detailed slides with histograms, annotated means, and supporting textual insights.\n",
    "- End with recommendations and a Q&A section for stakeholders.\n",
    "\n",
    "## Report:\n",
    "- Write a structured report with sections for introduction, methodology, results (with visuals), and conclusions. The actionable recommendations could be highlighted in a separate section or as an appendix.\n",
    "\n",
    "# Business Context Application\n",
    "\n",
    "- **Ride-Sharing Services:** Emphasize how these insights can be used to tailor services, such as premium ride options that cater to customers who prefer card payments.\n",
    "- **Urban Transportation:** Discuss how urban transportation planners might leverage this data to encourage cashless payments, improving operational efficiency.\n",
    "\n",
    "By organizing the conclusions in this way, you can make your findings more accessible and actionable, ensuring that stakeholders understand the practical implications of your data analysis.\n"
   ]
  },
  {
   "cell_type": "code",
   "execution_count": null,
   "metadata": {},
   "outputs": [],
   "source": [
    "np.round(df.describe(), 3)"
   ]
  },
  {
   "cell_type": "code",
   "execution_count": null,
   "metadata": {},
   "outputs": [],
   "source": [
    "from copy import deepcopy\n",
    "\n",
    "correlation_columns = [\"passenger_count\", \"fare_amount\", \"trip_distance\", \"duration\"]\n",
    "payment_dummies = pd.get_dummies(df[\"payment_type\"]).astype(np.int32)\n",
    "correlation_df = deepcopy(df[correlation_columns])\n",
    "\n",
    "correlation_df = pd.concat(objs=[payment_dummies, correlation_df], axis=1)\n",
    "\n",
    "plt.figure(figsize=(9, 5))\n",
    "sns.heatmap(data=correlation_df[[\"card\", \"cash\",\"fare_amount\", \"trip_distance\"]].corr(), annot=True, cmap=\"Greens\")\n",
    "plt.show()"
   ]
  },
  {
   "cell_type": "code",
   "execution_count": null,
   "metadata": {},
   "outputs": [],
   "source": [
    "plt.title(\"Preference of payment type\".title())\n",
    "plt.pie(df[\"payment_type\"].value_counts(normalize=True), labels=df[\"payment_type\"].value_counts().index, autopct='%1.1f%%', startangle=90)"
   ]
  },
  {
   "cell_type": "markdown",
   "metadata": {},
   "source": [
    "## Passenger Count Analysis"
   ]
  },
  {
   "cell_type": "code",
   "execution_count": null,
   "metadata": {},
   "outputs": [],
   "source": [
    "passenger_count = df.groupby([\"payment_type\", \"passenger_count\"])[[\"passenger_count\"]].count()\n",
    "passenger_count.rename(columns={\"passenger_count\" : \"count\"}, inplace=True)\n",
    "passenger_count.reset_index(inplace=True)"
   ]
  },
  {
   "cell_type": "code",
   "execution_count": null,
   "metadata": {},
   "outputs": [],
   "source": [
    "passenger_count.rename(columns={\"passenger_count\" : \"passengers\"}, inplace=True)\n",
    "passenger_count[\"percentage\"] = passenger_count[\"count\"] / passenger_count[\"count\"].sum() * 100"
   ]
  },
  {
   "cell_type": "code",
   "execution_count": null,
   "metadata": {},
   "outputs": [],
   "source": [
    "passenger_count"
   ]
  },
  {
   "cell_type": "code",
   "execution_count": null,
   "metadata": {},
   "outputs": [],
   "source": [
    "passenger_df = pd.DataFrame(columns=[\"payment_type\", 1, 2, 3, 4, 5])\n",
    "passenger_df[\"payment_type\"] = [\"Card\", \"Cash\"]\n",
    "passenger_df.iloc[0, 1:]  = passenger_count.iloc[0:5, -1]\n",
    "passenger_df.iloc[1, 1:]  = passenger_count.iloc[5:, -1]\n",
    "passenger_df.plot(x=\"payment_type\", kind=\"barh\", stacked=True, color=[\"#2E8B57\", \"#3CB371\", \"#228B22\", \"#006400\", \"#556B2F\"])\n",
    "\n",
    "passenger_df"
   ]
  },
  {
   "cell_type": "markdown",
   "metadata": {},
   "source": [
    "**NULL HYPOTHESIS:** is there is no difference between average fare between  customer who use credit card and customer who use cash\n",
    "\n",
    "**Alternative HYPOTHESIS:** there is a difference between average fare between  customer who use credit card and customer who use cash"
   ]
  },
  {
   "cell_type": "code",
   "execution_count": null,
   "metadata": {},
   "outputs": [],
   "source": [
    "import statsmodels.api as sm\n",
    "\n",
    "sm.qqplot(df[\"fare_amount\"], line= \"45\")\n",
    "plt.show()\n",
    "df.shape"
   ]
  },
  {
   "cell_type": "code",
   "execution_count": null,
   "metadata": {},
   "outputs": [],
   "source": [
    "card_sample = df[df[\"payment_type\"] == \"card\"][\"fare_amount\"]\n",
    "cash_sample = df[df[\"payment_type\"] == \"cash\"][\"fare_amount\"]"
   ]
  },
  {
   "cell_type": "code",
   "execution_count": null,
   "metadata": {},
   "outputs": [],
   "source": [
    "t_stats, p_value = stats.ttest_ind(a=card_sample, b=cash_sample, equal_var=False)\n",
    "print(f\"t-test: {t_stats}\\np-value: {p_value}\")\n",
    "\n"
   ]
  },
  {
   "cell_type": "code",
   "execution_count": null,
   "metadata": {},
   "outputs": [],
   "source": []
  }
 ],
 "metadata": {
  "kernelspec": {
   "display_name": "sklearn-mlops",
   "language": "python",
   "name": "python3"
  },
  "language_info": {
   "codemirror_mode": {
    "name": "ipython",
    "version": 3
   },
   "file_extension": ".py",
   "mimetype": "text/x-python",
   "name": "python",
   "nbconvert_exporter": "python",
   "pygments_lexer": "ipython3",
   "version": "3.12.5"
  }
 },
 "nbformat": 4,
 "nbformat_minor": 2
}
