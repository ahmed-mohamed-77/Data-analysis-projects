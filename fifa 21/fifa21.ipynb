{
 "cells": [
  {
   "cell_type": "code",
   "execution_count": 377,
   "metadata": {},
   "outputs": [],
   "source": [
    "import pandas as pd\n",
    "from pandas import Series\n",
    "import numpy as np\n",
    "import matplotlib.pyplot as plt\n",
    "import seaborn as sns\n",
    "sns.set_style(style=\"darkgrid\")\n",
    "%matplotlib inline\n",
    "import warnings\n",
    "warnings.filterwarnings(action=\"ignore\")\n",
    "pd.set_option(\"display.max_columns\", None)"
   ]
  },
  {
   "cell_type": "code",
   "execution_count": null,
   "metadata": {},
   "outputs": [],
   "source": [
    "df = pd.read_csv(r\"D:\\Python\\data analysis projects\\fifa 21\\fifa21 raw data v2.csv\")\n",
    "df.sample(frac=0.1)"
   ]
  },
  {
   "cell_type": "code",
   "execution_count": null,
   "metadata": {},
   "outputs": [],
   "source": [
    "df.info()"
   ]
  },
  {
   "cell_type": "code",
   "execution_count": null,
   "metadata": {},
   "outputs": [],
   "source": [
    "df[\"Club\"].dtype"
   ]
  },
  {
   "cell_type": "code",
   "execution_count": null,
   "metadata": {},
   "outputs": [],
   "source": [
    "df[\"Club\"] = df[\"Club\"].str.strip()\n",
    "df[\"Club\"]"
   ]
  },
  {
   "cell_type": "code",
   "execution_count": null,
   "metadata": {},
   "outputs": [],
   "source": [
    "df[\"Contract\"].unique()"
   ]
  },
  {
   "cell_type": "code",
   "execution_count": null,
   "metadata": {},
   "outputs": [],
   "source": [
    "# number of players who's free\n",
    "free_pl = []\n",
    "# number of players who's On Loan\n",
    "on_loan_pl = []\n",
    "\n",
    "\n",
    "for index, row in df.iterrows():\n",
    "    if \"On Loan\" in row[\"Contract\"] or \"Free\" in row[\"Contract\"]:\n",
    "        print(row[\"Contract\"])\n",
    "    \n",
    "    if \"On Loan\" in row[\"Contract\"]:\n",
    "        on_loan_pl.append(row[\"Contract\"])\n",
    "    else:\n",
    "        free_pl.append(row[\"Contract\"])\n"
   ]
  },
  {
   "cell_type": "code",
   "execution_count": null,
   "metadata": {},
   "outputs": [],
   "source": [
    "print(f\"Numbers of players on loan: {len(on_loan_pl)}\\nnumbers of free players: {len(free_pl)}\".title())\n",
    "\n",
    "loan = len(on_loan_pl)\n",
    "free = len(free_pl)\n",
    "players = [loan, free]\n",
    "\n",
    "label = [\"On Loan\", \"Free\"]\n",
    "\n",
    "plt.pie(x=players, labels=label, autopct=\"%1.1f%%\", startangle=90, colors=['lightgray', 'forestgreen'])\n",
    "plt.axis(\"equal\")\n",
    "\n",
    "plt.title(label=\"distribution between free and on loan players\".title())\n",
    "plt.show()"
   ]
  },
  {
   "cell_type": "markdown",
   "metadata": {},
   "source": [
    "## Most of the players are free players and small percent are on loan to anther clubs"
   ]
  },
  {
   "cell_type": "code",
   "execution_count": 385,
   "metadata": {},
   "outputs": [],
   "source": [
    "from typing import Any\n",
    "\n",
    "def extract_contract_info(contract: Series) -> tuple[float | Any, float | Any, int]:\n",
    "    if \"On Loan\" in contract or \"Free\" in contract:\n",
    "        start_date = np.nan\n",
    "        end_date = np.nan\n",
    "        contract_length = 0\n",
    "    else:\n",
    "        start_date, end_date = contract.split(\" ~ \")\n",
    "        start_year = int(start_date.strip())\n",
    "        end_year = int(end_date.strip())\n",
    "        contract_length = end_year - start_year\n",
    "    \n",
    "    return start_date, end_date, contract_length\n",
    "\n",
    "\n",
    "\n",
    "# create new columns and data and apply the extract function\n",
    "new_col = [\"start date\", \"end date\", \"contract length\"]\n",
    "new_data = df[\"Contract\"].apply(func=lambda x: Series(data=extract_contract_info(contract=x)))\n",
    "\n",
    "for i in range(len(new_col)):\n",
    "    df.insert(loc=df.columns.get_loc(key=\"Contract\") +1 + i,column=new_col[i], value=new_data[i])"
   ]
  },
  {
   "cell_type": "markdown",
   "metadata": {},
   "source": [
    "# Position the preferred position for the players"
   ]
  },
  {
   "cell_type": "code",
   "execution_count": null,
   "metadata": {},
   "outputs": [],
   "source": [
    "df"
   ]
  },
  {
   "cell_type": "code",
   "execution_count": 387,
   "metadata": {},
   "outputs": [],
   "source": [
    "from pandas import DataFrame\n",
    "\n",
    "\n",
    "def split_column(column: Series):\n",
    "    column = column.str.strip()\n",
    "    result_df: DataFrame = column.to_frame()\n",
    "    options = []\n",
    "\n",
    "    for idx, value in result_df[result_df.columns[0]].dropna().items():\n",
    "        for option in value.split(\",\"):\n",
    "\n",
    "            option = option.strip()\n",
    "\n",
    "            if option not in result_df.columns:\n",
    "                options.append(option)\n",
    "                result_df[option] = False\n",
    "            \n",
    "            # Set the option to True for the corresponding row\n",
    "            result_df.at[idx, option] = True\n",
    "    return result_df\n",
    "\n",
    "position = split_column(df[\"Positions\"])\n"
   ]
  },
  {
   "cell_type": "code",
   "execution_count": null,
   "metadata": {},
   "outputs": [],
   "source": [
    "position.columns"
   ]
  },
  {
   "cell_type": "code",
   "execution_count": null,
   "metadata": {},
   "outputs": [],
   "source": [
    "df.columns"
   ]
  },
  {
   "cell_type": "code",
   "execution_count": null,
   "metadata": {},
   "outputs": [],
   "source": [
    "def categorize_contract(contract: Series):\n",
    "    if contract == \"Free\":\n",
    "        return \"Free\"\n",
    "    elif \"On Loan\" in contract:\n",
    "        return \"On Loan\"\n",
    "    else:\n",
    "        return \"Contact\"\n",
    "\n",
    "# apply the function on the data_frame\n",
    "df.insert(loc=df.columns.get_loc(key=\"Contract\") + 1, column=\"contract_status\", value=df[\"Contract\"].apply(func=categorize_contract))\n",
    "df"
   ]
  },
  {
   "cell_type": "code",
   "execution_count": null,
   "metadata": {},
   "outputs": [],
   "source": [
    "position_one = position[['RW', 'ST', 'CF', 'LW', 'GK', 'CAM', 'CM', 'CB', 'CDM',\n",
    "        'RB', 'RM', 'LM', 'LB', 'RWB', 'LWB']]\n",
    "position_one.sum().sort_values(ascending=False)"
   ]
  },
  {
   "cell_type": "code",
   "execution_count": null,
   "metadata": {},
   "outputs": [],
   "source": [
    "import plotly.express as px\n",
    "plt.figure(figsize=(15,6))\n",
    "\n",
    "# Create horizontal bar plot\n",
    "sns.barplot(y=position_one.sum().sort_values(ascending=False).index, x=position_one.sum().sort_values(ascending=False), orient=\"h\", color=\"forestgreen\")\n",
    "plt.xlabel(xlabel=\"players counts in each position\".title())\n",
    "plt.ylabel(ylabel=\"players position\".title())\n",
    "plt.title(label=\"players distribution across the field\".title())\n",
    "plt.tight_layout()\n",
    "plt.show()\n",
    "\n",
    "\n",
    "fig = px.bar(\n",
    "    data_frame=np.round((position_one.sum() * 100 / position_one.count()).sort_values(ascending=False), 2),\n",
    "    color=(position_one.sum() * 100 / position_one.count()).sort_values(ascending=False).index\n",
    ")\n",
    "\n",
    "fig.update_layout(\n",
    "    width=1500,  # Width in pixels\n",
    "    height=600,  # Height in pixels\n",
    "    title=\"players distribution across the field\".title(),\n",
    "    xaxis_title=\"players in each position\".title(),\n",
    "    yaxis_title='Percentage',\n",
    "    xaxis_tickangle=-75  # Rotate x-axis labels for better readability\n",
    ")\n",
    "fig.show()\n"
   ]
  },
  {
   "cell_type": "markdown",
   "metadata": {},
   "source": [
    "## Height"
   ]
  },
  {
   "cell_type": "code",
   "execution_count": null,
   "metadata": {},
   "outputs": [],
   "source": [
    "df.columns"
   ]
  },
  {
   "cell_type": "code",
   "execution_count": null,
   "metadata": {},
   "outputs": [],
   "source": [
    "df[\"Height\"].dtype"
   ]
  },
  {
   "cell_type": "code",
   "execution_count": null,
   "metadata": {},
   "outputs": [],
   "source": [
    "df[\"Height\"].head(10)"
   ]
  },
  {
   "cell_type": "code",
   "execution_count": 396,
   "metadata": {},
   "outputs": [],
   "source": [
    "df[\"Height\"] = df[\"Height\"].str.replace(\"cm\", \"\")"
   ]
  },
  {
   "cell_type": "code",
   "execution_count": 397,
   "metadata": {},
   "outputs": [],
   "source": [
    "import re\n",
    "\n",
    "def adjusting_hight_unit(height: Series):\n",
    "# Pattern to match heights in the format 6'2\n",
    "    pattern = r\"([0-9]+)'([0-9]+)\\\"\"\n",
    "\n",
    "    if match := re.search(pattern=pattern, string=str(height)):\n",
    "        feet, inches = match.groups()\n",
    "        # Convert feet to inches\n",
    "        feet = int(feet) * 12\n",
    "        inches = int(inches) + feet\n",
    "        # Convert inches to cm and round to 2 decimal places\n",
    "        cm = inches * 2.54\n",
    "        return f\"{cm:.2f}\"  # Return the result as a string\n",
    "    else:\n",
    "        return height\n",
    "\n",
    "df[\"Height\"] = df[\"Height\"].apply(adjusting_hight_unit)\n",
    "df[\"Height\"] = df[\"Height\"].astype(np.float64)"
   ]
  },
  {
   "cell_type": "markdown",
   "metadata": {},
   "source": [
    "## Weights"
   ]
  },
  {
   "cell_type": "code",
   "execution_count": null,
   "metadata": {},
   "outputs": [],
   "source": [
    "df[\"Weight\"].dtype"
   ]
  },
  {
   "cell_type": "code",
   "execution_count": null,
   "metadata": {},
   "outputs": [],
   "source": [
    "df[\"Weight\"].unique()"
   ]
  },
  {
   "cell_type": "code",
   "execution_count": null,
   "metadata": {},
   "outputs": [],
   "source": [
    "df[\"Weight\"].isna().sum()"
   ]
  },
  {
   "cell_type": "code",
   "execution_count": null,
   "metadata": {},
   "outputs": [],
   "source": [
    "def convert_weights(weight):\n",
    "# Handle missing values or NaN\n",
    "    if pd.isna(weight):\n",
    "        return np.nan\n",
    "    \n",
    "    # Convert from Kg\n",
    "    if \"kg\" in weight.lower():\n",
    "        weight = weight.replace(\"kg\", \"\").strip() # Remove 'Kg' and strip any spaces\n",
    "        return float(weight)\n",
    "    \n",
    "    # Convert from lbs to Kg\n",
    "    elif \"lbs\" in weight.lower():\n",
    "        weight = x=weight.replace(\"lbs\", \"\").strip() # Remove 'lbs' and strip any spaces\n",
    "        weight = np.round(float(weight) * 0.45359237, 2)\n",
    "        return weight\n",
    "\n",
    "    return np.nan\n",
    "\n",
    "df[\"Weight\"] = df[\"Weight\"].apply(convert_weights)\n",
    "print(df[\"Weight\"].dtype)\n",
    "df[\"Weight\"]"
   ]
  },
  {
   "cell_type": "code",
   "execution_count": null,
   "metadata": {},
   "outputs": [],
   "source": [
    "df[\"Weight\"].unique()"
   ]
  },
  {
   "cell_type": "code",
   "execution_count": null,
   "metadata": {},
   "outputs": [],
   "source": [
    "convert_to_kg = ['181lbs', '139lbs', '154lbs', '157lbs', '163lbs', '98kg', '103kg', '99kg', '102kg', '56kg', '101kg', '57kg', '55kg', np.nan, None]\n",
    "for i in range(len(convert_to_kg)):\n",
    "\n",
    "    if pd.isna(convert_to_kg[i]):\n",
    "        convert_to_kg[i] = np.nan\n",
    "    \n",
    "    elif \"lbs\" in convert_to_kg[i]:\n",
    "        # Extract the number part, convert to float, and convert pounds to kilograms\n",
    "        pounds = float(convert_to_kg[i].replace(\"lbs\", \"\").strip())\n",
    "        kilograms = np.round(pounds * 0.453592, 2)\n",
    "        convert_to_kg[i] = kilograms\n",
    "    \n",
    "    elif \"kg\" in convert_to_kg[i]:\n",
    "        convert_to_kg[i] = convert_to_kg[i].replace(\"kg\", \"\").strip()\n",
    "\n",
    "print(convert_to_kg)"
   ]
  },
  {
   "cell_type": "code",
   "execution_count": null,
   "metadata": {},
   "outputs": [],
   "source": [
    "import re\n",
    "email: str = input(\"enter your mail? \")\n",
    "print(email)\n",
    "if re.search(pattern=r\".+@.+\\.edu\", string=email):\n",
    "    print(\"valid => Regular expression passed\")\n",
    "else: print(\"invalid => Regular expression failed\")"
   ]
  },
  {
   "cell_type": "code",
   "execution_count": 405,
   "metadata": {},
   "outputs": [],
   "source": [
    "df.rename(\n",
    "    columns={\"start date\": \"startDate\" , \"end date\" : \"endDate\", \"contract length\" : \"contractLengthInYears\"},\n",
    "    inplace=True\n",
    ")"
   ]
  },
  {
   "cell_type": "code",
   "execution_count": null,
   "metadata": {},
   "outputs": [],
   "source": [
    "plt.pie(df[\"Preferred Foot\"].value_counts().values, labels=df[\"Preferred Foot\"].value_counts().index, autopct=\"%.2f%%\", startangle=90)"
   ]
  },
  {
   "cell_type": "code",
   "execution_count": null,
   "metadata": {},
   "outputs": [],
   "source": [
    "df.columns"
   ]
  },
  {
   "cell_type": "code",
   "execution_count": null,
   "metadata": {},
   "outputs": [],
   "source": [
    "missing_data = df.isna()\n",
    "for col in missing_data.columns.values.tolist():\n",
    "    print(missing_data[col].value_counts())\n",
    "    print(\"\\n\")"
   ]
  },
  {
   "cell_type": "markdown",
   "metadata": {},
   "source": [
    "### Loan Date End\n",
    "**Will be dropped because it only have approximate of 6 percent of data of total column**"
   ]
  },
  {
   "cell_type": "code",
   "execution_count": 409,
   "metadata": {},
   "outputs": [],
   "source": [
    "\"\"\"Loan Date End\n",
    "True     17966\n",
    "False     1013\n",
    "Name: count, dtype: int64\"\"\"\n",
    "\n",
    "np.round((1013 / (17966 + 1013))*100, 2)\n",
    "df.drop(columns=\"Loan Date End\", inplace=True )"
   ]
  },
  {
   "cell_type": "code",
   "execution_count": null,
   "metadata": {},
   "outputs": [],
   "source": [
    "print(df[\"Attacking\"].isna().sum())\n",
    "df[\"Attacking\"].dtype"
   ]
  },
  {
   "cell_type": "code",
   "execution_count": null,
   "metadata": {},
   "outputs": [],
   "source": [
    "print(df[\"Attacking\"].count())\n",
    "df[\"Attacking\"].unique()\n"
   ]
  },
  {
   "cell_type": "code",
   "execution_count": 412,
   "metadata": {},
   "outputs": [],
   "source": [
    "from typing import Literal\n",
    "\n",
    "\n",
    "def extract_money_unit(money: str) -> None | Literal['K'] | Literal['M'] | Literal['Free Agent']:\n",
    "    money = money.strip(\"€\").lower()\n",
    "    if money[-1].isalpha():\n",
    "        if \"k\" in money:\n",
    "            return \"K\"\n",
    "        elif \"m\" in money:\n",
    "            return \"M\"\n",
    "    else:\n",
    "        return \"Free Agent\"\n",
    "\n",
    "\n",
    "def convert_values(market_value: str) -> float:\n",
    "    market_value = float(re.sub(pattern=\"[€MK]\", repl=\"\", string=market_value))\n",
    "    return market_value\n",
    "\n",
    "\n",
    "df.insert(loc=df.columns.get_loc(key=\"Value\") + 1, column=\"MarketValuation\", value=df[\"Value\"].apply(func=extract_money_unit))\n",
    "df[\"Value\"] = df[\"Value\"].apply(func=convert_values)\n",
    "\n",
    "df.rename(columns={\"Value\" : \"marketValueInEuro\", \"↓OVA\" : \"overall\", 'Preferred Foot' : \"preferredFoot\",\n",
    "                    'Best Position' : \"bestPosition\", 'Release Clause' : \"releaseClause\"},\n",
    "            inplace=True\n",
    ")"
   ]
  },
  {
   "cell_type": "code",
   "execution_count": 413,
   "metadata": {},
   "outputs": [],
   "source": [
    "def extract_wage_unit(money: str) -> Literal['K'] | Literal['euro']:\n",
    "    money = money.strip(\"€\").lower()\n",
    "    if money[-1].isalpha():\n",
    "        if \"k\" in money:\n",
    "            return \"K\"\n",
    "    return \"euro\"\n",
    "\n",
    "df.insert(loc=df.columns.get_loc(\"Wage\") + 1, column=\"salaryUnit\", value=df[\"Wage\"].apply(func=extract_wage_unit))\n",
    "df[\"Wage\"] = df[\"Wage\"].apply(func=convert_values)\n",
    "df.rename(columns={\"Wage\" : \"salaryInEuro\"}, inplace=True)"
   ]
  },
  {
   "cell_type": "code",
   "execution_count": 419,
   "metadata": {},
   "outputs": [],
   "source": [
    "df.insert(loc=df.columns.get_loc(\"releaseClause\") + 1, column=\"releaseClauseUnit\", value=df[\"releaseClause\"].apply(func=extract_money_unit))\n",
    "df[\"releaseClause\"] = df[\"releaseClause\"].apply(func=convert_values)"
   ]
  },
  {
   "cell_type": "code",
   "execution_count": null,
   "metadata": {},
   "outputs": [],
   "source": [
    "no_ending_sign = []\n",
    "\n",
    "for row in df[\"releaseClause\"]:\n",
    "    if row[-1].isalpha():\n",
    "        continue\n",
    "    else:\n",
    "        no_ending_sign.append(row)\n",
    "print(set(no_ending_sign))"
   ]
  },
  {
   "cell_type": "code",
   "execution_count": 236,
   "metadata": {},
   "outputs": [],
   "source": [
    "un_matched = []\n",
    "for row in df[\"playerUrl\"]:\n",
    "    if matches := re.search(\"^(http:\\/\\/).+(\\/)$\", row):\n",
    "        start, end = matches.groups()\n",
    "        if start == \"http://\" and end == \"/\":\n",
    "            continue\n",
    "        else:\n",
    "            un_matched.append(row)"
   ]
  },
  {
   "cell_type": "code",
   "execution_count": null,
   "metadata": {},
   "outputs": [],
   "source": [
    "un_matched"
   ]
  },
  {
   "cell_type": "code",
   "execution_count": null,
   "metadata": {},
   "outputs": [],
   "source": [
    "pattern = r\"^([0-9]+)\\-([A-Z-a-z]+)\\-([0-9]+)$\"\n",
    "\n",
    "for row in df[\"photoUrl\"]:\n",
    "    if matches := re.search(pattern=pattern, string=row):\n",
    "        day,month, year = matches.groups()\n",
    "        if day == \"https://\" and month == \"cdn\" and year == \".png\":\n",
    "            continue\n",
    "        else:\n",
    "            un_matched.append(row)\n",
    "\n",
    "len(un_matched)"
   ]
  },
  {
   "cell_type": "code",
   "execution_count": null,
   "metadata": {},
   "outputs": [],
   "source": [
    "pattern = r\"^\\d{2}\\-\\S{3}\\-\\d{2}$\"\n",
    "\n",
    "for row in df[\"Joined\"]:\n",
    "    if re.match(pattern=pattern, string=row):\n",
    "        continue\n",
    "    else:\n",
    "        un_matched.append(row)\n",
    "len(un_matched)"
   ]
  }
 ],
 "metadata": {
  "kernelspec": {
   "display_name": "sklearn-mlops",
   "language": "python",
   "name": "python3"
  },
  "language_info": {
   "codemirror_mode": {
    "name": "ipython",
    "version": 3
   },
   "file_extension": ".py",
   "mimetype": "text/x-python",
   "name": "python",
   "nbconvert_exporter": "python",
   "pygments_lexer": "ipython3",
   "version": "3.12.5"
  }
 },
 "nbformat": 4,
 "nbformat_minor": 2
}
