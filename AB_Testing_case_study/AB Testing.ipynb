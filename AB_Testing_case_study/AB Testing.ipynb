{
 "cells": [
  {
   "cell_type": "code",
   "execution_count": 2,
   "metadata": {},
   "outputs": [
    {
     "name": "stdout",
     "output_type": "stream",
     "text": [
      "\n",
      "\n",
      "Probability In Control Group: 0.2\n",
      "Probability In The Experimental Group: 0.40\n",
      "Probability Of Pooled Hat : 0.000030140000000\n",
      "Probability Of Pooled Variance: 0.000000006027818\n",
      "standard Error (Standard deviation of the sample) : 0.00008\n",
      "level of significant : 0.05\n",
      "Two tail alpha: 0.025\n",
      "p-value: 0.000000\n",
      "test test: -2612.0884194119753\n"
     ]
    }
   ],
   "source": [
    "import numpy as np\n",
    "import pandas as pd\n",
    "import scipy.stats as stats\n",
    "import matplotlib.pyplot as plt\n",
    "import seaborn as sns\n",
    "import plotly.express as px\n",
    "import warnings\n",
    "import os\n",
    "from AB_testing_training import df_ab_testing\n",
    "\n",
    "sns.set_style(style=\"darkgrid\")\n",
    "warnings.filterwarnings(action=\"ignore\")\n",
    "%matplotlib inline"
   ]
  },
  {
   "cell_type": "code",
   "execution_count": 3,
   "metadata": {},
   "outputs": [
    {
     "name": "stdout",
     "output_type": "stream",
     "text": [
      "(20000, 3)\n",
      "<class 'pandas.core.frame.DataFrame'>\n",
      "RangeIndex: 20000 entries, 0 to 19999\n",
      "Data columns (total 3 columns):\n",
      " #   Column     Non-Null Count  Dtype \n",
      "---  ------     --------------  ----- \n",
      " 0   click      20000 non-null  int32 \n",
      " 1   group      20000 non-null  object\n",
      " 2   timestamp  20000 non-null  object\n",
      "dtypes: int32(1), object(2)\n",
      "memory usage: 390.8+ KB\n"
     ]
    }
   ],
   "source": [
    "print(df_ab_testing.shape)\n",
    "df_ab_testing.info()"
   ]
  },
  {
   "cell_type": "code",
   "execution_count": 4,
   "metadata": {},
   "outputs": [
    {
     "data": {
      "text/html": [
       "<div>\n",
       "<style scoped>\n",
       "    .dataframe tbody tr th:only-of-type {\n",
       "        vertical-align: middle;\n",
       "    }\n",
       "\n",
       "    .dataframe tbody tr th {\n",
       "        vertical-align: top;\n",
       "    }\n",
       "\n",
       "    .dataframe thead th {\n",
       "        text-align: right;\n",
       "    }\n",
       "</style>\n",
       "<table border=\"1\" class=\"dataframe\">\n",
       "  <thead>\n",
       "    <tr style=\"text-align: right;\">\n",
       "      <th></th>\n",
       "      <th>click</th>\n",
       "    </tr>\n",
       "    <tr>\n",
       "      <th>group</th>\n",
       "      <th></th>\n",
       "    </tr>\n",
       "  </thead>\n",
       "  <tbody>\n",
       "    <tr>\n",
       "      <th>con</th>\n",
       "      <td>2000</td>\n",
       "    </tr>\n",
       "    <tr>\n",
       "      <th>exp</th>\n",
       "      <td>4028</td>\n",
       "    </tr>\n",
       "  </tbody>\n",
       "</table>\n",
       "</div>"
      ],
      "text/plain": [
       "       click\n",
       "group       \n",
       "con     2000\n",
       "exp     4028"
      ]
     },
     "execution_count": 4,
     "metadata": {},
     "output_type": "execute_result"
    }
   ],
   "source": [
    "from copy import deepcopy\n",
    "from pandas import DataFrame\n",
    "    \n",
    "df: DataFrame = deepcopy(x=df_ab_testing)\n",
    "df.groupby(by=\"group\").sum(numeric_only=\"click\")"
   ]
  },
  {
   "cell_type": "code",
   "execution_count": 5,
   "metadata": {},
   "outputs": [
    {
     "data": {
      "text/html": [
       "<div>\n",
       "<style scoped>\n",
       "    .dataframe tbody tr th:only-of-type {\n",
       "        vertical-align: middle;\n",
       "    }\n",
       "\n",
       "    .dataframe tbody tr th {\n",
       "        vertical-align: top;\n",
       "    }\n",
       "\n",
       "    .dataframe thead th {\n",
       "        text-align: right;\n",
       "    }\n",
       "</style>\n",
       "<table border=\"1\" class=\"dataframe\">\n",
       "  <thead>\n",
       "    <tr style=\"text-align: right;\">\n",
       "      <th></th>\n",
       "      <th>click</th>\n",
       "    </tr>\n",
       "  </thead>\n",
       "  <tbody>\n",
       "    <tr>\n",
       "      <th>count</th>\n",
       "      <td>20000.000000</td>\n",
       "    </tr>\n",
       "    <tr>\n",
       "      <th>mean</th>\n",
       "      <td>0.301400</td>\n",
       "    </tr>\n",
       "    <tr>\n",
       "      <th>std</th>\n",
       "      <td>0.458878</td>\n",
       "    </tr>\n",
       "    <tr>\n",
       "      <th>min</th>\n",
       "      <td>0.000000</td>\n",
       "    </tr>\n",
       "    <tr>\n",
       "      <th>25%</th>\n",
       "      <td>0.000000</td>\n",
       "    </tr>\n",
       "    <tr>\n",
       "      <th>50%</th>\n",
       "      <td>0.000000</td>\n",
       "    </tr>\n",
       "    <tr>\n",
       "      <th>75%</th>\n",
       "      <td>1.000000</td>\n",
       "    </tr>\n",
       "    <tr>\n",
       "      <th>max</th>\n",
       "      <td>1.000000</td>\n",
       "    </tr>\n",
       "  </tbody>\n",
       "</table>\n",
       "</div>"
      ],
      "text/plain": [
       "              click\n",
       "count  20000.000000\n",
       "mean       0.301400\n",
       "std        0.458878\n",
       "min        0.000000\n",
       "25%        0.000000\n",
       "50%        0.000000\n",
       "75%        1.000000\n",
       "max        1.000000"
      ]
     },
     "execution_count": 5,
     "metadata": {},
     "output_type": "execute_result"
    }
   ],
   "source": [
    "df.describe()"
   ]
  },
  {
   "cell_type": "code",
   "execution_count": 26,
   "metadata": {},
   "outputs": [
    {
     "data": {
      "image/png": "[encoded data removed]",
      "text/plain": [
       "<Figure size 1000x500 with 1 Axes>"
      ]
     },
     "metadata": {},
     "output_type": "display_data"
    }
   ],
   "source": [
    "from typing import Literal\n",
    "\n",
    "\n",
    "palette = {0: \"#9BEC00\", 1:\"#5BBCFF\"}\n",
    "plt.figure(figsize=(10,5))\n",
    "\n",
    "ax = sns.countplot(data=df, x=\"group\", hue=\"click\", palette=palette)\n",
    "plt.title(label=\"click distribution in exponent and control\".title())\n",
    "\n",
    "plt.legend(title=\"clicks\".title(), labels=[\"No\", \"Yes\"])\n",
    "plt.tight_layout()\n",
    "\n",
    "# total size of the group\n",
    "group_count = df.groupby(\"group\").size()\n",
    "group_click_count = df.groupby([\"group\", \"click\"]).size().reset_index(name=\"count\")\n",
    "\n",
    "for p in ax.patches:\n",
    "    height = p.get_height()\n",
    "    group: Literal['exp'] | Literal['con'] = \"exp\" if p.get_x() < 0.5 else \"con\"\n",
    "    click: Literal[1] | Literal[0] = 1 if p.get_x() > 0.5 else 0\n",
    "    total: np.int64 = group_count.loc[group]\n",
    "    percentage = 100 * height / total\n",
    "    ax.text(p.get_x() + p.get_width() / 2. , height + 7, f\"{percentage:.1f}%\", ha=\"center\", color=\"black\", fontsize=10)\n",
    "plt.show()"
   ]
  },
  {
   "cell_type": "markdown",
   "metadata": {},
   "source": [
    "## since the hypothesis is :\n",
    "### null hypothesis :hypothesized (population mean) = alternative hypothesis: hypothesized (population mean)\n",
    "### alternative hypothesis :hypothesized (population mean) != null hypothesis : hypothesized (population mean)\n",
    "#### therefore we have two tail alpha\n",
    "\n",
    "**since the p_value = 0 , z_test = -31.3 and z_critical = 1.96**\n",
    "\n",
    "- z_test is from anther distribution and in the rejection area so reject the null hypothesis\n"
   ]
  },
  {
   "cell_type": "code",
   "execution_count": 55,
   "metadata": {},
   "outputs": [
    {
     "name": "stdout",
     "output_type": "stream",
     "text": [
      "the level of significance is: 0.05\n",
      "minimum detectable effect is: 0.1\n",
      "pooled estimate : 0.3014\n",
      "pooled variance:  0.000042\n",
      "-31.3\n",
      "0.000000000\n"
     ]
    }
   ],
   "source": [
    "alpha = 0.05\n",
    "print(\"the level of significance is:\", alpha)\n",
    "\n",
    "delta = 0.1\n",
    "print(\"minimum detectable effect is:\", delta)\n",
    "\n",
    "z_critical: np.float64 = np.round(a=stats.norm.ppf(q=1 - alpha / 2) ,decimals=2)\n",
    "\n",
    "N_con = df[df[\"group\"] == \"con\"].count().loc[\"click\"]\n",
    "N_exp = df[df[\"group\"] == \"exp\"].count().loc[\"click\"]\n",
    "\n",
    "x_con: np.int32 = df.groupby(by=\"group\")[\"click\"].sum().loc[\"con\"]\n",
    "x_exp: np.int32 = df.groupby(by=\"group\")[\"click\"].sum().loc[\"exp\"]\n",
    "\n",
    "p_con_hat = x_con / N_con\n",
    "p_exp_hat = x_exp / N_exp\n",
    "\n",
    "# accumulate the estimate of the pool \n",
    "p_pooled_hat =(x_con + x_exp) / (N_con + N_exp)\n",
    "\n",
    "# estimate the pooled variance\n",
    "pooled_variance = p_pooled_hat * (1 - p_pooled_hat) * ((1 / N_con) + (1 / N_exp))\n",
    "\n",
    "print(f\"pooled estimate : {p_pooled_hat}\\npooled variance: {pooled_variance:9f}\")\n",
    "\n",
    "SE = np.sqrt(pooled_variance)\n",
    "z_test = (p_con_hat - p_exp_hat) / SE\n",
    "print(round(z_test,1))\n",
    "\n",
    "p_value = stats.norm.sf(np.abs(z_test)) * 2\n",
    "print(f\"{p_value:.9f}\")"
   ]
  },
  {
   "cell_type": "code",
   "execution_count": null,
   "metadata": {},
   "outputs": [],
   "source": []
  }
 ],
 "metadata": {
  "kernelspec": {
   "display_name": "ml",
   "language": "python",
   "name": "python3"
  },
  "language_info": {
   "codemirror_mode": {
    "name": "ipython",
    "version": 3
   },
   "file_extension": ".py",
   "mimetype": "text/x-python",
   "name": "python",
   "nbconvert_exporter": "python",
   "pygments_lexer": "ipython3",
   "version": "3.12.5"
  }
 },
 "nbformat": 4,
 "nbformat_minor": 2
}
